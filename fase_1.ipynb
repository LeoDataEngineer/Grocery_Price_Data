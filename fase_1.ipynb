{
 "cells": [
  {
   "cell_type": "markdown",
   "metadata": {},
   "source": [
    "### 1. Librerias "
   ]
  },
  {
   "cell_type": "code",
   "execution_count": 1,
   "metadata": {},
   "outputs": [],
   "source": [
    "import time\n",
    "import pandas as pd\n",
    "from selenium import webdriver\n",
    "from selenium.webdriver.common.by import By\n",
    "from selenium.webdriver.chrome.service import Service\n",
    "from selenium.webdriver.support.ui import WebDriverWait\n",
    "from selenium.webdriver.support import expected_conditions as EC\n",
    "from webdriver_manager.chrome import ChromeDriverManager"
   ]
  },
  {
   "cell_type": "markdown",
   "metadata": {},
   "source": [
    "### 2. Función para extraer los datos(Web scarping)"
   ]
  },
  {
   "cell_type": "code",
   "execution_count": 2,
   "metadata": {},
   "outputs": [],
   "source": [
    "def extract_text(id, url, by_type, identifier):\n",
    "    # Configurar el servicio para ChromeDriver\n",
    "    service = Service(ChromeDriverManager().install())\n",
    "\n",
    "    # Iniciar el navegador\n",
    "    driver = webdriver.Chrome(service=service)\n",
    "\n",
    "    try:\n",
    "        # Navegar a la página web\n",
    "        print(f\"Navegando a la URL: {url}\")\n",
    "        driver.get(url)\n",
    "        \n",
    "        time.sleep(2)# pausa de 2 segundos\n",
    "        # Hacer scroll hacia abajo para cargar el contenido si es necesario\n",
    "        driver.execute_script(\"window.scrollTo(0, document.body.scrollHeight);\")\n",
    "        time.sleep(2)\n",
    "        \n",
    "        # Esperar hasta que el contenedor de los productos esté presente\n",
    "        wait = WebDriverWait(driver, 5)  # Incrementar el tiempo de espera\n",
    "        print(f\"Esperando el elemento con {by_type} y {identifier}\")\n",
    "        wait.until(EC.presence_of_element_located((by_type, identifier)))\n",
    "\n",
    "        # Extraer datos utilizando el tipo de localización y el identificador proporcionado\n",
    "        element = driver.find_element(by_type, identifier)\n",
    "        print(f\"Elemento encontrado: {element}\")\n",
    "\n",
    "        # Obtener el texto del elemento\n",
    "        text = element.text\n",
    "        print(f\"Texto encontrado para {id}: {text}\")\n",
    "        text_name = (id, text)\n",
    "        \n",
    "        return text_name\n",
    "    except Exception as e:\n",
    "        print(f\"Error al extraer texto para {id} con URL {url}: {e}\")\n",
    "        return None\n",
    "    finally:\n",
    "        # Asegurarse de que el navegador se cierra\n",
    "        driver.quit()\n",
    "\n",
    "\n",
    "\n"
   ]
  },
  {
   "cell_type": "markdown",
   "metadata": {},
   "source": [
    "### 3. Creación de los argumentos que se van a pasar a la función"
   ]
  },
  {
   "cell_type": "code",
   "execution_count": 5,
   "metadata": {},
   "outputs": [],
   "source": [
    "# id, empresa, producto, url, xpath\n",
    "links_products = [\n",
    "      ['1', 'Carrefour', 'azucar', 'https://www.carrefour.com.ar/azucar-comun-tipo-a-bella-vista-1-kg-421740/p', '/html/body/div[3]/div/div[1]/div/div/div/div[5]/div/div[2]/div[3]/section/div/div[2]/div/div[10]/div/div/div/div/div/div[2]/div/div/div[1]/div/div[1]/span/span/span[1]'],\n",
    "      ['2', 'Dia', 'azucar', 'https://diaonline.supermercadosdia.com.ar/az%C3%BAcares?_q=az%C3%BAcares&map=ft', '/html/body/div[2]/div/div[1]/div/div[3]/div/div/section/div[2]/div/div[3]/section/div/div[3]/div/div[3]/div/div/div/div/div[5]/section/a/article/div/div/div[5]/div/div/div[1]/span/span/span'],\n",
    "      ['3', 'Disco', 'azucar', 'https://www.disco.com.ar/azucar?_q=azucar&map=ft&page=1', '/html/body/div[2]/div/div[1]/div/div[10]/div/div[2]/section/div[2]/div/div[4]/section/div/div/div/div/div[2]/div/div[3]/div/div/div/div/div[1]/section/a/article/div[5]/div/div/div/div[1]/div/span/div/div']\n",
    "]"
   ]
  },
  {
   "cell_type": "code",
   "execution_count": 7,
   "metadata": {},
   "outputs": [
    {
     "data": {
      "text/html": [
       "<div>\n",
       "<style scoped>\n",
       "    .dataframe tbody tr th:only-of-type {\n",
       "        vertical-align: middle;\n",
       "    }\n",
       "\n",
       "    .dataframe tbody tr th {\n",
       "        vertical-align: top;\n",
       "    }\n",
       "\n",
       "    .dataframe thead th {\n",
       "        text-align: right;\n",
       "    }\n",
       "</style>\n",
       "<table border=\"1\" class=\"dataframe\">\n",
       "  <thead>\n",
       "    <tr style=\"text-align: right;\">\n",
       "      <th></th>\n",
       "      <th>id</th>\n",
       "      <th>empresa</th>\n",
       "      <th>producto</th>\n",
       "      <th>link</th>\n",
       "      <th>xpath</th>\n",
       "    </tr>\n",
       "  </thead>\n",
       "  <tbody>\n",
       "    <tr>\n",
       "      <th>0</th>\n",
       "      <td>1</td>\n",
       "      <td>Carrefour</td>\n",
       "      <td>azucar</td>\n",
       "      <td>https://www.carrefour.com.ar/azucar-comun-tipo...</td>\n",
       "      <td>/html/body/div[3]/div/div[1]/div/div/div/div[5...</td>\n",
       "    </tr>\n",
       "    <tr>\n",
       "      <th>1</th>\n",
       "      <td>2</td>\n",
       "      <td>Dia</td>\n",
       "      <td>azucar</td>\n",
       "      <td>https://diaonline.supermercadosdia.com.ar/az%C...</td>\n",
       "      <td>/html/body/div[2]/div/div[1]/div/div[3]/div/di...</td>\n",
       "    </tr>\n",
       "    <tr>\n",
       "      <th>2</th>\n",
       "      <td>3</td>\n",
       "      <td>Disco</td>\n",
       "      <td>azucar</td>\n",
       "      <td>https://www.disco.com.ar/azucar?_q=azucar&amp;map=...</td>\n",
       "      <td>/html/body/div[2]/div/div[1]/div/div[10]/div/d...</td>\n",
       "    </tr>\n",
       "  </tbody>\n",
       "</table>\n",
       "</div>"
      ],
      "text/plain": [
       "  id    empresa producto                                               link   \n",
       "0  1  Carrefour   azucar  https://www.carrefour.com.ar/azucar-comun-tipo...  \\\n",
       "1  2        Dia   azucar  https://diaonline.supermercadosdia.com.ar/az%C...   \n",
       "2  3      Disco   azucar  https://www.disco.com.ar/azucar?_q=azucar&map=...   \n",
       "\n",
       "                                               xpath  \n",
       "0  /html/body/div[3]/div/div[1]/div/div/div/div[5...  \n",
       "1  /html/body/div[2]/div/div[1]/div/div[3]/div/di...  \n",
       "2  /html/body/div[2]/div/div[1]/div/div[10]/div/d...  "
      ]
     },
     "execution_count": 7,
     "metadata": {},
     "output_type": "execute_result"
    }
   ],
   "source": [
    "# Se crea un dataframe con la lista links_products\n",
    "columnas = ['id','empresa', 'producto','link', 'xpath']\n",
    "df = pd.DataFrame(links_products, columns=columnas)\n",
    "df\n"
   ]
  },
  {
   "cell_type": "markdown",
   "metadata": {},
   "source": [
    "### 4. Llamada a la funcion extract_text(id, url, by_type, identifier)"
   ]
  },
  {
   "cell_type": "code",
   "execution_count": 8,
   "metadata": {},
   "outputs": [
    {
     "name": "stdout",
     "output_type": "stream",
     "text": [
      "Navegando a la URL: https://www.carrefour.com.ar/azucar-comun-tipo-a-bella-vista-1-kg-421740/p\n",
      "Esperando el elemento con xpath y /html/body/div[3]/div/div[1]/div/div/div/div[5]/div/div[2]/div[3]/section/div/div[2]/div/div[10]/div/div/div/div/div/div[2]/div/div/div[1]/div/div[1]/span/span/span[1]\n",
      "Elemento encontrado: <selenium.webdriver.remote.webelement.WebElement (session=\"a15a55b632d6ba0bd374ae79c06453c5\", element=\"f.4137261A13BFF631142AA8C0901FE478.d.DEE5AA5904579D6587098EB715B1C31F.e.173\")>\n",
      "Texto encontrado para 1: $ 860,00\n",
      "Esperando 1 segundos antes de la siguiente iteración...\n",
      "Navegando a la URL: https://diaonline.supermercadosdia.com.ar/az%C3%BAcares?_q=az%C3%BAcares&map=ft\n",
      "Esperando el elemento con xpath y /html/body/div[2]/div/div[1]/div/div[3]/div/div/section/div[2]/div/div[3]/section/div/div[3]/div/div[3]/div/div/div/div/div[5]/section/a/article/div/div/div[5]/div/div/div[1]/span/span/span\n",
      "Elemento encontrado: <selenium.webdriver.remote.webelement.WebElement (session=\"4abb816bdd7bc10a1c3e4d5222683fea\", element=\"f.F51DBB544ABE1CB2D67E50BE5B7507AE.d.86AA4FD46AFC06D50D7AB3BAFB43DB35.e.146\")>\n",
      "Texto encontrado para 2: $ 1.390,00\n",
      "Esperando 1 segundos antes de la siguiente iteración...\n",
      "Navegando a la URL: https://www.disco.com.ar/azucar?_q=azucar&map=ft&page=1\n",
      "Esperando el elemento con xpath y /html/body/div[2]/div/div[1]/div/div[10]/div/div[2]/section/div[2]/div/div[4]/section/div/div/div/div/div[2]/div/div[3]/div/div/div/div/div[1]/section/a/article/div[5]/div/div/div/div[1]/div/span/div/div\n",
      "Elemento encontrado: <selenium.webdriver.remote.webelement.WebElement (session=\"f7ef8589d2a1537d467e173de10a9f95\", element=\"f.7A5B44179A02F0C77B39099799845780.d.139F0D56CD43A4CE5C23D6693150C91F.e.173\")>\n",
      "Texto encontrado para 3: $800\n",
      "Esperando 1 segundos antes de la siguiente iteración...\n",
      "[('1', '$ 860,00'), ('2', '$ 1.390,00'), ('3', '$800')]\n"
     ]
    }
   ],
   "source": [
    "# Se extrae la data de la web\n",
    "productos = []\n",
    "# se recorre el dataframe df\n",
    "for index, row in df.iterrows():\n",
    "    # variables que se le pasan a la función\n",
    "    id = row['id']\n",
    "    url = row['link']\n",
    "    xpath = row['xpath']\n",
    "    \n",
    "    result = extract_text(id, url, By.XPATH, xpath) \n",
    "    if result:  # Solo añadir si no es None\n",
    "        productos.append(result)\n",
    "    \n",
    "    # Esperar 5 segundos antes de la siguiente iteración\n",
    "    print(\"Esperando 1 segundos antes de la siguiente iteración...\")\n",
    "    # time.sleep(5)\n",
    "\n",
    "# Imprimir el diccionario resultante\n",
    "print(productos)\n",
    "    "
   ]
  },
  {
   "cell_type": "code",
   "execution_count": 9,
   "metadata": {},
   "outputs": [
    {
     "data": {
      "text/html": [
       "<div>\n",
       "<style scoped>\n",
       "    .dataframe tbody tr th:only-of-type {\n",
       "        vertical-align: middle;\n",
       "    }\n",
       "\n",
       "    .dataframe tbody tr th {\n",
       "        vertical-align: top;\n",
       "    }\n",
       "\n",
       "    .dataframe thead th {\n",
       "        text-align: right;\n",
       "    }\n",
       "</style>\n",
       "<table border=\"1\" class=\"dataframe\">\n",
       "  <thead>\n",
       "    <tr style=\"text-align: right;\">\n",
       "      <th></th>\n",
       "      <th>id</th>\n",
       "      <th>precio</th>\n",
       "    </tr>\n",
       "  </thead>\n",
       "  <tbody>\n",
       "    <tr>\n",
       "      <th>0</th>\n",
       "      <td>1</td>\n",
       "      <td>$ 860,00</td>\n",
       "    </tr>\n",
       "    <tr>\n",
       "      <th>1</th>\n",
       "      <td>2</td>\n",
       "      <td>$ 1.390,00</td>\n",
       "    </tr>\n",
       "    <tr>\n",
       "      <th>2</th>\n",
       "      <td>3</td>\n",
       "      <td>$800</td>\n",
       "    </tr>\n",
       "  </tbody>\n",
       "</table>\n",
       "</div>"
      ],
      "text/plain": [
       "  id      precio\n",
       "0  1    $ 860,00\n",
       "1  2  $ 1.390,00\n",
       "2  3        $800"
      ]
     },
     "execution_count": 9,
     "metadata": {},
     "output_type": "execute_result"
    }
   ],
   "source": [
    "# Crear el DataFrame\n",
    "df_precio = pd.DataFrame(productos, columns=['id', 'precio'])\n",
    "df_precio"
   ]
  }
 ],
 "metadata": {
  "kernelspec": {
   "display_name": "Python 3",
   "language": "python",
   "name": "python3"
  },
  "language_info": {
   "codemirror_mode": {
    "name": "ipython",
    "version": 3
   },
   "file_extension": ".py",
   "mimetype": "text/x-python",
   "name": "python",
   "nbconvert_exporter": "python",
   "pygments_lexer": "ipython3",
   "version": "3.11.3"
  }
 },
 "nbformat": 4,
 "nbformat_minor": 2
}
